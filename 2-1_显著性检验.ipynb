{
 "cells": [
  {
   "attachments": {},
   "cell_type": "markdown",
   "metadata": {},
   "source": [
    "# 独立样本的参数和非参数检验"
   ]
  },
  {
   "cell_type": "code",
   "execution_count": 1,
   "metadata": {},
   "outputs": [],
   "source": [
    "import pandas as pd\n",
    "import numpy as np\n",
    "import matplotlib.pyplot as plt\n",
    "import seaborn as sns\n",
    "\n",
    "from sklearn.preprocessing import MinMaxScaler\n",
    "from sklearn.decomposition import PCA\n",
    "\n",
    "from scipy.stats import normaltest, ttest_ind, mannwhitneyu\n",
    "\n",
    "import warnings\n",
    "warnings.filterwarnings('ignore')\n",
    "\n",
    "\n",
    "plt.rcParams[\"font.sans-serif\"] = [\"SimHei\"]\n",
    "plt.rcParams['font.size'] = 12  # 字体大小\n",
    "plt.rcParams['axes.unicode_minus'] = False  # 正常显示负号"
   ]
  },
  {
   "cell_type": "code",
   "execution_count": 2,
   "metadata": {},
   "outputs": [],
   "source": [
    "df = pd.read_excel(\"探索信息\\\\用于第二题的表.xlsx\").drop('Unnamed: 0', axis=1)\n",
    "df = df.iloc[:, 0:16]\n",
    "# 这部分要抄到论文的三线表里\n",
    "# (df1.isnull().sum() / len(df)).to_excel('探索信息\\\\缺失值情况.xlsx')"
   ]
  },
  {
   "attachments": {},
   "cell_type": "markdown",
   "metadata": {},
   "source": [
    "## 正态性检验"
   ]
  },
  {
   "cell_type": "code",
   "execution_count": 3,
   "metadata": {},
   "outputs": [
    {
     "name": "stdout",
     "output_type": "stream",
     "text": [
      "非参数检验\n"
     ]
    }
   ],
   "source": [
    "# 进行正态性检验\n",
    "stat, p = normaltest(df[1])\n",
    "if p < 0.05:\n",
    "    print('非参数检验')\n",
    "else:\n",
    "    print('参数检验')"
   ]
  },
  {
   "cell_type": "code",
   "execution_count": 4,
   "metadata": {},
   "outputs": [
    {
     "name": "stdout",
     "output_type": "stream",
     "text": [
      "非参数检验\n"
     ]
    }
   ],
   "source": [
    "# 进行正态性检验\n",
    "stat, p = normaltest(df[2])\n",
    "if p < 0.05:\n",
    "    print('非参数检验')\n",
    "else:\n",
    "    print('参数检验')"
   ]
  },
  {
   "cell_type": "code",
   "execution_count": 5,
   "metadata": {},
   "outputs": [
    {
     "name": "stdout",
     "output_type": "stream",
     "text": [
      "非参数检验\n"
     ]
    }
   ],
   "source": [
    "# 进行正态性检验\n",
    "stat, p = normaltest(df[3])\n",
    "if p < 0.05:\n",
    "    print('非参数检验')\n",
    "else:\n",
    "    print('参数检验')"
   ]
  },
  {
   "cell_type": "code",
   "execution_count": 6,
   "metadata": {},
   "outputs": [
    {
     "name": "stdout",
     "output_type": "stream",
     "text": [
      "非参数检验\n"
     ]
    }
   ],
   "source": [
    "# 进行正态性检验\n",
    "stat, p = normaltest(df[4])\n",
    "if p < 0.05:\n",
    "    print('非参数检验')\n",
    "else:\n",
    "    print('参数检验')"
   ]
  },
  {
   "cell_type": "code",
   "execution_count": 7,
   "metadata": {},
   "outputs": [
    {
     "name": "stdout",
     "output_type": "stream",
     "text": [
      "参数检验\n"
     ]
    }
   ],
   "source": [
    "# 进行正态性检验\n",
    "stat, p = normaltest(df[5])\n",
    "if p < 0.05:\n",
    "    print('非参数检验')\n",
    "else:\n",
    "    print('参数检验')"
   ]
  },
  {
   "cell_type": "code",
   "execution_count": 8,
   "metadata": {},
   "outputs": [
    {
     "name": "stdout",
     "output_type": "stream",
     "text": [
      "参数检验\n"
     ]
    }
   ],
   "source": [
    "# 进行正态性检验\n",
    "stat, p = normaltest(df[6])\n",
    "if p < 0.05:\n",
    "    print('非参数检验')\n",
    "else:\n",
    "    print('参数检验')"
   ]
  },
  {
   "cell_type": "code",
   "execution_count": 9,
   "metadata": {},
   "outputs": [
    {
     "name": "stdout",
     "output_type": "stream",
     "text": [
      "参数检验\n"
     ]
    }
   ],
   "source": [
    "# 进行正态性检验\n",
    "stat, p = normaltest(df[7])\n",
    "if p < 0.05:\n",
    "    print('非参数检验')\n",
    "else:\n",
    "    print('参数检验')"
   ]
  },
  {
   "cell_type": "code",
   "execution_count": 10,
   "metadata": {},
   "outputs": [
    {
     "name": "stdout",
     "output_type": "stream",
     "text": [
      "非参数检验\n"
     ]
    }
   ],
   "source": [
    "# 进行正态性检验\n",
    "stat, p = normaltest(df[8])\n",
    "if p < 0.05:\n",
    "    print('非参数检验')\n",
    "else:\n",
    "    print('参数检验')"
   ]
  },
  {
   "cell_type": "code",
   "execution_count": 11,
   "metadata": {},
   "outputs": [
    {
     "name": "stdout",
     "output_type": "stream",
     "text": [
      "参数检验\n"
     ]
    }
   ],
   "source": [
    "# 进行正态性检验\n",
    "stat, p = normaltest(df[9])\n",
    "if p < 0.05:\n",
    "    print('非参数检验')\n",
    "else:\n",
    "    print('参数检验')"
   ]
  },
  {
   "cell_type": "code",
   "execution_count": 12,
   "metadata": {},
   "outputs": [
    {
     "name": "stdout",
     "output_type": "stream",
     "text": [
      "非参数检验\n"
     ]
    }
   ],
   "source": [
    "# 进行正态性检验\n",
    "stat, p = normaltest(df[10])\n",
    "if p < 0.05:\n",
    "    print('非参数检验')\n",
    "else:\n",
    "    print('参数检验')"
   ]
  },
  {
   "cell_type": "code",
   "execution_count": 13,
   "metadata": {},
   "outputs": [
    {
     "name": "stdout",
     "output_type": "stream",
     "text": [
      "非参数检验\n"
     ]
    }
   ],
   "source": [
    "# 进行正态性检验\n",
    "stat, p = normaltest(df[11])\n",
    "if p < 0.05:\n",
    "    print('非参数检验')\n",
    "else:\n",
    "    print('参数检验')"
   ]
  },
  {
   "cell_type": "code",
   "execution_count": 14,
   "metadata": {},
   "outputs": [
    {
     "name": "stdout",
     "output_type": "stream",
     "text": [
      "参数检验\n"
     ]
    }
   ],
   "source": [
    "# 进行正态性检验\n",
    "stat, p = normaltest(df[12])\n",
    "if p < 0.05:\n",
    "    print('非参数检验')\n",
    "else:\n",
    "    print('参数检验')"
   ]
  },
  {
   "cell_type": "code",
   "execution_count": 15,
   "metadata": {},
   "outputs": [
    {
     "name": "stdout",
     "output_type": "stream",
     "text": [
      "非参数检验\n"
     ]
    }
   ],
   "source": [
    "# 进行正态性检验\n",
    "stat, p = normaltest(df[13])\n",
    "if p < 0.05:\n",
    "    print('非参数检验')\n",
    "else:\n",
    "    print('参数检验')"
   ]
  },
  {
   "cell_type": "code",
   "execution_count": 16,
   "metadata": {},
   "outputs": [
    {
     "name": "stdout",
     "output_type": "stream",
     "text": [
      "非参数检验\n"
     ]
    }
   ],
   "source": [
    "# 进行正态性检验\n",
    "stat, p = normaltest(df[14])\n",
    "if p < 0.05:\n",
    "    print('非参数检验')\n",
    "else:\n",
    "    print('参数检验')"
   ]
  },
  {
   "cell_type": "code",
   "execution_count": 17,
   "metadata": {},
   "outputs": [
    {
     "name": "stdout",
     "output_type": "stream",
     "text": [
      "非参数检验\n"
     ]
    }
   ],
   "source": [
    "# 进行正态性检验\n",
    "stat, p = normaltest(df[15])\n",
    "if p < 0.05:\n",
    "    print('非参数检验')\n",
    "else:\n",
    "    print('参数检验')"
   ]
  },
  {
   "attachments": {},
   "cell_type": "markdown",
   "metadata": {},
   "source": [
    "## 独立样本检验"
   ]
  },
  {
   "cell_type": "code",
   "execution_count": 18,
   "metadata": {},
   "outputs": [
    {
     "data": {
      "text/html": [
       "<div>\n",
       "<style scoped>\n",
       "    .dataframe tbody tr th:only-of-type {\n",
       "        vertical-align: middle;\n",
       "    }\n",
       "\n",
       "    .dataframe tbody tr th {\n",
       "        vertical-align: top;\n",
       "    }\n",
       "\n",
       "    .dataframe thead th {\n",
       "        text-align: right;\n",
       "    }\n",
       "</style>\n",
       "<table border=\"1\" class=\"dataframe\">\n",
       "  <thead>\n",
       "    <tr style=\"text-align: right;\">\n",
       "      <th></th>\n",
       "      <th>1</th>\n",
       "      <th>2</th>\n",
       "      <th>3</th>\n",
       "      <th>4</th>\n",
       "      <th>5</th>\n",
       "      <th>6</th>\n",
       "      <th>7</th>\n",
       "      <th>8</th>\n",
       "      <th>9</th>\n",
       "      <th>10</th>\n",
       "      <th>11</th>\n",
       "      <th>12</th>\n",
       "      <th>13</th>\n",
       "      <th>14</th>\n",
       "      <th>15</th>\n",
       "      <th>镇静药名称</th>\n",
       "    </tr>\n",
       "  </thead>\n",
       "  <tbody>\n",
       "    <tr>\n",
       "      <th>0</th>\n",
       "      <td>-1.103067</td>\n",
       "      <td>0.302150</td>\n",
       "      <td>0.387325</td>\n",
       "      <td>-0.095793</td>\n",
       "      <td>-0.210683</td>\n",
       "      <td>0.502497</td>\n",
       "      <td>-0.265837</td>\n",
       "      <td>0.329323</td>\n",
       "      <td>0.377515</td>\n",
       "      <td>-0.306348</td>\n",
       "      <td>0.857474</td>\n",
       "      <td>-0.040848</td>\n",
       "      <td>0.284738</td>\n",
       "      <td>0.017151</td>\n",
       "      <td>-0.130504</td>\n",
       "      <td>1</td>\n",
       "    </tr>\n",
       "    <tr>\n",
       "      <th>1</th>\n",
       "      <td>-0.337459</td>\n",
       "      <td>-0.118844</td>\n",
       "      <td>0.336914</td>\n",
       "      <td>-0.073023</td>\n",
       "      <td>0.073615</td>\n",
       "      <td>0.318199</td>\n",
       "      <td>-0.098389</td>\n",
       "      <td>0.304869</td>\n",
       "      <td>0.316830</td>\n",
       "      <td>-0.282626</td>\n",
       "      <td>0.859278</td>\n",
       "      <td>0.566038</td>\n",
       "      <td>-0.283947</td>\n",
       "      <td>0.084061</td>\n",
       "      <td>0.168690</td>\n",
       "      <td>1</td>\n",
       "    </tr>\n",
       "    <tr>\n",
       "      <th>2</th>\n",
       "      <td>1.046401</td>\n",
       "      <td>1.039489</td>\n",
       "      <td>0.433603</td>\n",
       "      <td>0.135392</td>\n",
       "      <td>-0.522524</td>\n",
       "      <td>0.382748</td>\n",
       "      <td>0.217990</td>\n",
       "      <td>0.679754</td>\n",
       "      <td>-0.040927</td>\n",
       "      <td>-0.333334</td>\n",
       "      <td>0.882590</td>\n",
       "      <td>0.300863</td>\n",
       "      <td>-0.074718</td>\n",
       "      <td>0.220685</td>\n",
       "      <td>0.115378</td>\n",
       "      <td>0</td>\n",
       "    </tr>\n",
       "    <tr>\n",
       "      <th>3</th>\n",
       "      <td>-0.607979</td>\n",
       "      <td>0.688826</td>\n",
       "      <td>0.176407</td>\n",
       "      <td>0.028499</td>\n",
       "      <td>-0.241025</td>\n",
       "      <td>-0.048383</td>\n",
       "      <td>0.568706</td>\n",
       "      <td>0.024797</td>\n",
       "      <td>-0.028535</td>\n",
       "      <td>-0.150293</td>\n",
       "      <td>0.949226</td>\n",
       "      <td>-0.122037</td>\n",
       "      <td>0.224071</td>\n",
       "      <td>0.357318</td>\n",
       "      <td>0.189671</td>\n",
       "      <td>0</td>\n",
       "    </tr>\n",
       "    <tr>\n",
       "      <th>4</th>\n",
       "      <td>-0.492691</td>\n",
       "      <td>0.308789</td>\n",
       "      <td>-0.088045</td>\n",
       "      <td>-0.223755</td>\n",
       "      <td>0.554606</td>\n",
       "      <td>-0.133289</td>\n",
       "      <td>-0.121700</td>\n",
       "      <td>0.021425</td>\n",
       "      <td>0.350769</td>\n",
       "      <td>0.078523</td>\n",
       "      <td>0.417336</td>\n",
       "      <td>-0.173761</td>\n",
       "      <td>-0.007258</td>\n",
       "      <td>-0.017102</td>\n",
       "      <td>-0.118020</td>\n",
       "      <td>0</td>\n",
       "    </tr>\n",
       "    <tr>\n",
       "      <th>...</th>\n",
       "      <td>...</td>\n",
       "      <td>...</td>\n",
       "      <td>...</td>\n",
       "      <td>...</td>\n",
       "      <td>...</td>\n",
       "      <td>...</td>\n",
       "      <td>...</td>\n",
       "      <td>...</td>\n",
       "      <td>...</td>\n",
       "      <td>...</td>\n",
       "      <td>...</td>\n",
       "      <td>...</td>\n",
       "      <td>...</td>\n",
       "      <td>...</td>\n",
       "      <td>...</td>\n",
       "      <td>...</td>\n",
       "    </tr>\n",
       "    <tr>\n",
       "      <th>401</th>\n",
       "      <td>-0.767577</td>\n",
       "      <td>0.619593</td>\n",
       "      <td>-0.871862</td>\n",
       "      <td>0.652659</td>\n",
       "      <td>-0.092049</td>\n",
       "      <td>0.032307</td>\n",
       "      <td>-0.126226</td>\n",
       "      <td>0.633604</td>\n",
       "      <td>0.146273</td>\n",
       "      <td>0.659558</td>\n",
       "      <td>0.162943</td>\n",
       "      <td>-0.053456</td>\n",
       "      <td>-0.316256</td>\n",
       "      <td>-0.033490</td>\n",
       "      <td>0.010895</td>\n",
       "      <td>0</td>\n",
       "    </tr>\n",
       "    <tr>\n",
       "      <th>402</th>\n",
       "      <td>0.441272</td>\n",
       "      <td>0.018715</td>\n",
       "      <td>-0.003357</td>\n",
       "      <td>-0.231017</td>\n",
       "      <td>0.029761</td>\n",
       "      <td>-0.219823</td>\n",
       "      <td>0.083726</td>\n",
       "      <td>0.619923</td>\n",
       "      <td>0.221495</td>\n",
       "      <td>0.646689</td>\n",
       "      <td>0.003539</td>\n",
       "      <td>0.019969</td>\n",
       "      <td>0.094400</td>\n",
       "      <td>0.101321</td>\n",
       "      <td>0.018957</td>\n",
       "      <td>0</td>\n",
       "    </tr>\n",
       "    <tr>\n",
       "      <th>403</th>\n",
       "      <td>-0.869886</td>\n",
       "      <td>-0.134433</td>\n",
       "      <td>-0.522848</td>\n",
       "      <td>0.362836</td>\n",
       "      <td>-0.367955</td>\n",
       "      <td>-0.434298</td>\n",
       "      <td>-0.329824</td>\n",
       "      <td>0.246850</td>\n",
       "      <td>-0.267075</td>\n",
       "      <td>0.281839</td>\n",
       "      <td>0.200735</td>\n",
       "      <td>-0.101588</td>\n",
       "      <td>-0.246883</td>\n",
       "      <td>0.067457</td>\n",
       "      <td>0.195765</td>\n",
       "      <td>0</td>\n",
       "    </tr>\n",
       "    <tr>\n",
       "      <th>404</th>\n",
       "      <td>0.086580</td>\n",
       "      <td>-0.555946</td>\n",
       "      <td>0.176856</td>\n",
       "      <td>0.345435</td>\n",
       "      <td>0.189594</td>\n",
       "      <td>-0.004921</td>\n",
       "      <td>0.131852</td>\n",
       "      <td>0.595141</td>\n",
       "      <td>-0.603584</td>\n",
       "      <td>-0.135284</td>\n",
       "      <td>-0.117829</td>\n",
       "      <td>0.015494</td>\n",
       "      <td>-0.280442</td>\n",
       "      <td>-0.182528</td>\n",
       "      <td>0.154194</td>\n",
       "      <td>0</td>\n",
       "    </tr>\n",
       "    <tr>\n",
       "      <th>405</th>\n",
       "      <td>-0.919469</td>\n",
       "      <td>0.622573</td>\n",
       "      <td>-0.619537</td>\n",
       "      <td>0.517132</td>\n",
       "      <td>0.112831</td>\n",
       "      <td>0.299047</td>\n",
       "      <td>-0.167035</td>\n",
       "      <td>0.583124</td>\n",
       "      <td>0.454015</td>\n",
       "      <td>0.307104</td>\n",
       "      <td>-0.076209</td>\n",
       "      <td>-0.029782</td>\n",
       "      <td>-0.178687</td>\n",
       "      <td>-0.030511</td>\n",
       "      <td>-0.122445</td>\n",
       "      <td>0</td>\n",
       "    </tr>\n",
       "  </tbody>\n",
       "</table>\n",
       "<p>406 rows × 16 columns</p>\n",
       "</div>"
      ],
      "text/plain": [
       "            1         2         3         4         5         6         7  \\\n",
       "0   -1.103067  0.302150  0.387325 -0.095793 -0.210683  0.502497 -0.265837   \n",
       "1   -0.337459 -0.118844  0.336914 -0.073023  0.073615  0.318199 -0.098389   \n",
       "2    1.046401  1.039489  0.433603  0.135392 -0.522524  0.382748  0.217990   \n",
       "3   -0.607979  0.688826  0.176407  0.028499 -0.241025 -0.048383  0.568706   \n",
       "4   -0.492691  0.308789 -0.088045 -0.223755  0.554606 -0.133289 -0.121700   \n",
       "..        ...       ...       ...       ...       ...       ...       ...   \n",
       "401 -0.767577  0.619593 -0.871862  0.652659 -0.092049  0.032307 -0.126226   \n",
       "402  0.441272  0.018715 -0.003357 -0.231017  0.029761 -0.219823  0.083726   \n",
       "403 -0.869886 -0.134433 -0.522848  0.362836 -0.367955 -0.434298 -0.329824   \n",
       "404  0.086580 -0.555946  0.176856  0.345435  0.189594 -0.004921  0.131852   \n",
       "405 -0.919469  0.622573 -0.619537  0.517132  0.112831  0.299047 -0.167035   \n",
       "\n",
       "            8         9        10        11        12        13        14  \\\n",
       "0    0.329323  0.377515 -0.306348  0.857474 -0.040848  0.284738  0.017151   \n",
       "1    0.304869  0.316830 -0.282626  0.859278  0.566038 -0.283947  0.084061   \n",
       "2    0.679754 -0.040927 -0.333334  0.882590  0.300863 -0.074718  0.220685   \n",
       "3    0.024797 -0.028535 -0.150293  0.949226 -0.122037  0.224071  0.357318   \n",
       "4    0.021425  0.350769  0.078523  0.417336 -0.173761 -0.007258 -0.017102   \n",
       "..        ...       ...       ...       ...       ...       ...       ...   \n",
       "401  0.633604  0.146273  0.659558  0.162943 -0.053456 -0.316256 -0.033490   \n",
       "402  0.619923  0.221495  0.646689  0.003539  0.019969  0.094400  0.101321   \n",
       "403  0.246850 -0.267075  0.281839  0.200735 -0.101588 -0.246883  0.067457   \n",
       "404  0.595141 -0.603584 -0.135284 -0.117829  0.015494 -0.280442 -0.182528   \n",
       "405  0.583124  0.454015  0.307104 -0.076209 -0.029782 -0.178687 -0.030511   \n",
       "\n",
       "           15  镇静药名称  \n",
       "0   -0.130504      1  \n",
       "1    0.168690      1  \n",
       "2    0.115378      0  \n",
       "3    0.189671      0  \n",
       "4   -0.118020      0  \n",
       "..        ...    ...  \n",
       "401  0.010895      0  \n",
       "402  0.018957      0  \n",
       "403  0.195765      0  \n",
       "404  0.154194      0  \n",
       "405 -0.122445      0  \n",
       "\n",
       "[406 rows x 16 columns]"
      ]
     },
     "execution_count": 18,
     "metadata": {},
     "output_type": "execute_result"
    }
   ],
   "source": [
    "df"
   ]
  },
  {
   "cell_type": "code",
   "execution_count": 19,
   "metadata": {},
   "outputs": [],
   "source": [
    "df.columns = ['label1', 'label2', 'label3', 'label4', 'label5', 'label6', 'label7', \n",
    "               'label8', 'label9', 'label10', 'label11', 'label12', 'label13', 'label14', \n",
    "               'label15', '镇静药组']"
   ]
  },
  {
   "cell_type": "code",
   "execution_count": 20,
   "metadata": {},
   "outputs": [
    {
     "name": "stdout",
     "output_type": "stream",
     "text": [
      "[5677.0, 0.21941333829432508]\n"
     ]
    }
   ],
   "source": [
    "# 将标签数据根据性别分成两组\n",
    "e1 = df.loc[df['镇静药组'] == 1, 'label1']\n",
    "e2 = df.loc[df['镇静药组'] == 0, 'label1']\n",
    "\n",
    "# 进行独立样本t检验\n",
    "fvalue, pvalue = mannwhitneyu(e1, e2)\n",
    "\n",
    "# 输出结果\n",
    "print([fvalue, pvalue])"
   ]
  },
  {
   "cell_type": "code",
   "execution_count": 21,
   "metadata": {},
   "outputs": [
    {
     "name": "stdout",
     "output_type": "stream",
     "text": [
      "[6047.0, 0.5025059790871782]\n"
     ]
    }
   ],
   "source": [
    "# 将标签数据根据性别分成两组\n",
    "e1 = df.loc[df['镇静药组'] == 1, 'label2']\n",
    "e2 = df.loc[df['镇静药组'] == 0, 'label2']\n",
    "\n",
    "# 进行Mann-Whitney U检验\n",
    "fvalue, pvalue = mannwhitneyu(e1, e2)\n",
    "\n",
    "# 输出结果\n",
    "print([fvalue, pvalue])"
   ]
  },
  {
   "cell_type": "code",
   "execution_count": 22,
   "metadata": {},
   "outputs": [
    {
     "name": "stdout",
     "output_type": "stream",
     "text": [
      "[7725.0, 0.06338950902899082]\n"
     ]
    }
   ],
   "source": [
    "# 将标签数据根据性别分成两组\n",
    "e1 = df.loc[df['镇静药组'] == 1, 'label3']\n",
    "e2 = df.loc[df['镇静药组'] == 0, 'label3']\n",
    "\n",
    "# 进行Mann-Whitney U检验\n",
    "fvalue, pvalue = mannwhitneyu(e1, e2)\n",
    "\n",
    "# 输出结果\n",
    "print([fvalue, pvalue])"
   ]
  },
  {
   "cell_type": "code",
   "execution_count": 23,
   "metadata": {},
   "outputs": [
    {
     "name": "stdout",
     "output_type": "stream",
     "text": [
      "[5428.0, 0.10886902565144545]\n"
     ]
    }
   ],
   "source": [
    "# 将标签数据根据性别分成两组\n",
    "e1 = df.loc[df['镇静药组'] == 1, 'label4']\n",
    "e2 = df.loc[df['镇静药组'] == 0, 'label4']\n",
    "\n",
    "# 进行Mann-Whitney U检验\n",
    "fvalue, pvalue = mannwhitneyu(e1, e2)\n",
    "\n",
    "# 输出结果\n",
    "print([fvalue, pvalue])"
   ]
  },
  {
   "cell_type": "code",
   "execution_count": 24,
   "metadata": {},
   "outputs": [
    {
     "name": "stdout",
     "output_type": "stream",
     "text": [
      "[1.3093587234196706, 0.1911570354592169]\n"
     ]
    }
   ],
   "source": [
    "# 将标签数据根据性别分成两组\n",
    "e1 = df.loc[df['镇静药组'] == 1, 'label5']\n",
    "e2 = df.loc[df['镇静药组'] == 0, 'label5']\n",
    "\n",
    "# 进行独立样本t检验\n",
    "fvalue, pvalue = ttest_ind(e1, e2)\n",
    "\n",
    "# 输出结果\n",
    "print([fvalue, pvalue])"
   ]
  },
  {
   "cell_type": "code",
   "execution_count": 25,
   "metadata": {},
   "outputs": [
    {
     "name": "stdout",
     "output_type": "stream",
     "text": [
      "[2.3135452668559813, 0.02119392231803349]\n"
     ]
    }
   ],
   "source": [
    "# 将标签数据根据性别分成两组\n",
    "e1 = df.loc[df['镇静药组'] == 1, 'label6']\n",
    "e2 = df.loc[df['镇静药组'] == 0, 'label6']\n",
    "\n",
    "# 进行Mann-Whitney U检验\n",
    "fvalue, pvalue = ttest_ind(e1, e2)\n",
    "\n",
    "# 输出结果\n",
    "print([fvalue, pvalue])"
   ]
  },
  {
   "cell_type": "code",
   "execution_count": 26,
   "metadata": {},
   "outputs": [
    {
     "name": "stdout",
     "output_type": "stream",
     "text": [
      "[-0.6372304211515338, 0.5243357037307071]\n"
     ]
    }
   ],
   "source": [
    "# 将标签数据根据性别分成两组\n",
    "e1 = df.loc[df['镇静药组'] == 1, 'label7']\n",
    "e2 = df.loc[df['镇静药组'] == 0, 'label7']\n",
    "\n",
    "# 进行Mann-Whitney U检验\n",
    "fvalue, pvalue = ttest_ind(e1, e2)\n",
    "\n",
    "# 输出结果\n",
    "print([fvalue, pvalue])"
   ]
  },
  {
   "cell_type": "code",
   "execution_count": 27,
   "metadata": {},
   "outputs": [
    {
     "name": "stdout",
     "output_type": "stream",
     "text": [
      "[5658.0, 0.20885507964706462]\n"
     ]
    }
   ],
   "source": [
    "# 将标签数据根据性别分成两组\n",
    "e1 = df.loc[df['镇静药组'] == 1, 'label8']\n",
    "e2 = df.loc[df['镇静药组'] == 0, 'label8']\n",
    "\n",
    "# 进行Mann-Whitney U检验\n",
    "fvalue, pvalue = mannwhitneyu(e1, e2)\n",
    "\n",
    "# 输出结果\n",
    "print([fvalue, pvalue])"
   ]
  },
  {
   "cell_type": "code",
   "execution_count": 28,
   "metadata": {},
   "outputs": [
    {
     "name": "stdout",
     "output_type": "stream",
     "text": [
      "[1.4358596125573069, 0.15181610513597327]\n"
     ]
    }
   ],
   "source": [
    "# 将标签数据根据性别分成两组\n",
    "e1 = df.loc[df['镇静药组'] == 1, 'label9']\n",
    "e2 = df.loc[df['镇静药组'] == 0, 'label9']\n",
    "\n",
    "# 进行独立样本t检验\n",
    "fvalue, pvalue = ttest_ind(e1, e2)\n",
    "\n",
    "# 输出结果\n",
    "print([fvalue, pvalue])"
   ]
  },
  {
   "cell_type": "code",
   "execution_count": 29,
   "metadata": {},
   "outputs": [
    {
     "name": "stdout",
     "output_type": "stream",
     "text": [
      "[5781.0, 0.2840002570082891]\n"
     ]
    }
   ],
   "source": [
    "# 将标签数据根据性别分成两组\n",
    "e1 = df.loc[df['镇静药组'] == 1, 'label10']\n",
    "e2 = df.loc[df['镇静药组'] == 0, 'label10']\n",
    "\n",
    "# 进行独立样本t检验\n",
    "fvalue, pvalue = mannwhitneyu(e1, e2)\n",
    "\n",
    "# 输出结果\n",
    "print([fvalue, pvalue])"
   ]
  },
  {
   "cell_type": "code",
   "execution_count": 30,
   "metadata": {},
   "outputs": [
    {
     "name": "stdout",
     "output_type": "stream",
     "text": [
      "[6725.0, 0.7266455557369802]\n"
     ]
    }
   ],
   "source": [
    "# 将标签数据根据性别分成两组\n",
    "e1 = df.loc[df['镇静药组'] == 1, 'label11']\n",
    "e2 = df.loc[df['镇静药组'] == 0, 'label11']\n",
    "\n",
    "# 进行独立样本t检验\n",
    "fvalue, pvalue = mannwhitneyu(e1, e2)\n",
    "\n",
    "# 输出结果\n",
    "print([fvalue, pvalue])"
   ]
  },
  {
   "cell_type": "code",
   "execution_count": 31,
   "metadata": {},
   "outputs": [
    {
     "name": "stdout",
     "output_type": "stream",
     "text": [
      "[-0.9097645435886145, 0.36348913287134166]\n"
     ]
    }
   ],
   "source": [
    "# 将标签数据根据性别分成两组\n",
    "e1 = df.loc[df['镇静药组'] == 1, 'label12']\n",
    "e2 = df.loc[df['镇静药组'] == 0, 'label12']\n",
    "\n",
    "# 进行独立样本t检验\n",
    "fvalue, pvalue = ttest_ind(e1, e2)\n",
    "\n",
    "# 输出结果\n",
    "print([fvalue, pvalue])"
   ]
  },
  {
   "cell_type": "code",
   "execution_count": 32,
   "metadata": {},
   "outputs": [
    {
     "name": "stdout",
     "output_type": "stream",
     "text": [
      "[5944.0, 0.40894115696284117]\n"
     ]
    }
   ],
   "source": [
    "# 将标签数据根据性别分成两组\n",
    "e1 = df.loc[df['镇静药组'] == 1, 'label13']\n",
    "e2 = df.loc[df['镇静药组'] == 0, 'label13']\n",
    "\n",
    "# 进行独立样本t检验\n",
    "fvalue, pvalue = mannwhitneyu(e1, e2)\n",
    "\n",
    "# 输出结果\n",
    "print([fvalue, pvalue])"
   ]
  },
  {
   "cell_type": "code",
   "execution_count": 33,
   "metadata": {},
   "outputs": [
    {
     "name": "stdout",
     "output_type": "stream",
     "text": [
      "[6118.0, 0.5730501854836183]\n"
     ]
    }
   ],
   "source": [
    "# 将标签数据根据性别分成两组\n",
    "e1 = df.loc[df['镇静药组'] == 1, 'label14']\n",
    "e2 = df.loc[df['镇静药组'] == 0, 'label14']\n",
    "\n",
    "# 进行独立样本t检验\n",
    "fvalue, pvalue = mannwhitneyu(e1, e2)\n",
    "\n",
    "# 输出结果\n",
    "print([fvalue, pvalue])"
   ]
  },
  {
   "cell_type": "code",
   "execution_count": 34,
   "metadata": {},
   "outputs": [
    {
     "name": "stdout",
     "output_type": "stream",
     "text": [
      "[7177.0, 0.3026856805159631]\n"
     ]
    }
   ],
   "source": [
    "# 将标签数据根据性别分成两组\n",
    "e1 = df.loc[df['镇静药组'] == 1, 'label15']\n",
    "e2 = df.loc[df['镇静药组'] == 0, 'label15']\n",
    "\n",
    "# 进行独立样本t检验\n",
    "fvalue, pvalue = mannwhitneyu(e1, e2)\n",
    "\n",
    "# 输出结果\n",
    "print([fvalue, pvalue])"
   ]
  }
 ],
 "metadata": {
  "kernelspec": {
   "display_name": "ml",
   "language": "python",
   "name": "python3"
  },
  "language_info": {
   "codemirror_mode": {
    "name": "ipython",
    "version": 3
   },
   "file_extension": ".py",
   "mimetype": "text/x-python",
   "name": "python",
   "nbconvert_exporter": "python",
   "pygments_lexer": "ipython3",
   "version": "3.10.0"
  },
  "orig_nbformat": 4
 },
 "nbformat": 4,
 "nbformat_minor": 2
}
